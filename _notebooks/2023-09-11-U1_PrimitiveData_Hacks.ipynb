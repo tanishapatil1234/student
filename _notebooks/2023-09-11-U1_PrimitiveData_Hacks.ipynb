{
 "cells": [
  {
   "cell_type": "markdown",
   "metadata": {},
   "source": [
    "---\n",
    "comments: true\n",
    "layout: post\n",
    "title: U1 Primitive Data Types - Hacks\n",
    "description: Hacks, Video reflection\n",
    "type: hacks\n",
    "courses: { compsci: {week: 4} }\n",
    "---"
   ]
  },
  {
   "cell_type": "markdown",
   "metadata": {},
   "source": [
    "## Primitive Data Types Notes : CB Videos\n",
    "\n",
    "Casting: to change the data type of a variable from one type to another \n",
    "- Casting Operators: (int) (double)\n",
    "- Casting a double value to an int causes the digits to the right of the decimal to be truncated \n",
    "- Double can be rounded to nearest int INSTEAD of truncated int(x+0.5)(positive), int(x-0.5)(negative)"
   ]
  },
  {
   "cell_type": "code",
   "execution_count": 5,
   "metadata": {},
   "outputs": [
    {
     "name": "stdout",
     "output_type": "stream",
     "text": [
      "1\n",
      "1.5\n",
      "1.5\n",
      "1.5\n"
     ]
    }
   ],
   "source": [
    "public class CastingNumbers {\n",
    "    public static void main(String[] args) {\n",
    "        System.out.println(6/4);\n",
    "        System.out.println(6.0/4);\n",
    "        System.out.println(6/4.0);\n",
    "        System.out.println((double)6/4);\n",
    "    }\n",
    "}\n",
    "\n",
    "CastingNumbers.main(null);"
   ]
  },
  {
   "cell_type": "code",
   "execution_count": 3,
   "metadata": {},
   "outputs": [
    {
     "name": "stdout",
     "output_type": "stream",
     "text": [
      "Enter an integer: 4\n",
      "Enter a double: 4.53\n",
      "Enter a boolean: true\n",
      "Enter a String: hello\n"
     ]
    }
   ],
   "source": [
    "// import the Scanner class from the java.util package.\n",
    "import java.util.Scanner;\n",
    "\n",
    "// class must alway have 1st letter as uppercase, CamelCase is Java Class convention\n",
    "public class ScanPrimitives {\n",
    "    public static void main(String[] args) {    \n",
    "        Scanner input;\n",
    "\n",
    "        // primitive int\n",
    "        input = new Scanner(System.in);\n",
    "        System.out.print(\"Enter an integer: \");\n",
    "        try {\n",
    "            int sampleInputInt = input.nextInt();\n",
    "            System.out.println(sampleInputInt);\n",
    "        } catch (Exception e) {  // if not an integer\n",
    "            System.out.println(\"Not an integer (form like 159), \" + e);\n",
    "        } finally {\n",
    "            input.close();\n",
    "        }\n",
    "\n",
    "        // primitive double\n",
    "        input = new Scanner(System.in);\n",
    "        System.out.print(\"Enter a double: \");\n",
    "        try {\n",
    "            double sampleInputDouble = input.nextDouble();\n",
    "            System.out.println(sampleInputDouble);\n",
    "        } catch (Exception e) {  // if not a number\n",
    "            System.out.println(\"Not an double (form like 9.99), \" + e);\n",
    "        } finally {\n",
    "            input.close();\n",
    "        }\n",
    "\n",
    "        // primitive boolean\n",
    "        input =  new Scanner(System.in);\n",
    "        System.out.print(\"Enter a boolean: \");\n",
    "        try {\n",
    "            boolean sampleInputBoolean = input.nextBoolean();\n",
    "            System.out.println(sampleInputBoolean);\n",
    "        } catch (Exception e) {  // if not true or false\n",
    "            System.out.println(\"Not an boolean (true or false), \" + e);\n",
    "        } finally {\n",
    "            input.close();\n",
    "        }\n",
    "\n",
    "        // wrapper class String\n",
    "        input =  new Scanner(System.in);\n",
    "        System.out.print(\"Enter a String: \");\n",
    "        try {\n",
    "            String sampleInputString = input.nextLine();\n",
    "            System.out.println(sampleInputString);\n",
    "        } catch (Exception e) { // this may never happen\n",
    "            System.out.println(\"Not an String, \" + e);\n",
    "        } finally {\n",
    "            input.close();\n",
    "        }\n",
    "    }\n",
    "}\n",
    "ScanPrimitives.main(null);"
   ]
  }
 ],
 "metadata": {
  "kernelspec": {
   "display_name": "Java",
   "language": "java",
   "name": "java"
  },
  "language_info": {
   "codemirror_mode": "java",
   "file_extension": ".jshell",
   "mimetype": "text/x-java-source",
   "name": "java",
   "pygments_lexer": "java",
   "version": "20.0.2+9-78"
  },
  "orig_nbformat": 4
 },
 "nbformat": 4,
 "nbformat_minor": 2
}
