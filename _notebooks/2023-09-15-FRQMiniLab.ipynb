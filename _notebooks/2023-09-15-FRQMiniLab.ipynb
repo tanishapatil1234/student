{
 "cells": [
  {
   "cell_type": "markdown",
   "metadata": {},
   "source": [
    "---\n",
    "comments: true\n",
    "layout: post\n",
    "title: FRQ No. 3- Array/ArrayList\n",
    "description: Hacks, Video reflection\n",
    "type: hacks\n",
    "courses: { compsci: {week: 4} }\n",
    "---"
   ]
  },
  {
   "cell_type": "markdown",
   "metadata": {},
   "source": [
    "<img width=\"613\" alt=\"image\" src=\"https://github.com/nighthawkcoders/teacher/assets/111611921/2a3a4dce-1d0a-4ba1-a4fe-7eddac8b509c\">\n"
   ]
  },
  {
   "cell_type": "markdown",
   "metadata": {},
   "source": [
    "Part A: Complete the method getDelimetersList. \n",
    "> Requirements: Returns an ArrayList of delimeters from the array tokens. \n",
    "<img width=\"688\" alt=\"image\" src=\"https://github.com/nighthawkcoders/teacher/assets/111611921/dad7f041-cc04-4099-9281-a56fd42289a2\">"
   ]
  },
  {
   "cell_type": "code",
   "execution_count": null,
   "metadata": {},
   "outputs": [],
   "source": [
    "public ArrayList<String> getDelimetersList(String[] token){\n",
    "    ArrayList<String> delimeters = newArrayList<string>(); // Creates empty list to return \n",
    "    for(string token : tokens){ // for loop to iterate through tokens list \n",
    "        if(token == openDel || token == closeDel) {// if statement to check if token is delimeter\n",
    "            delimeters.add(token); // appending delimeters array with token\n",
    "        } // if\n",
    "    } // for\n",
    "    return delimeters;\n",
    "}"
   ]
  },
  {
   "cell_type": "markdown",
   "metadata": {},
   "source": [
    "Part B: Complete the method isBalanced. \n",
    "> Requirements: Returns true is delimeters are balanced and false if not. Condtions for true: When traversing the array list, from the first to last element there is no point where there are more close delimeters than open delimeters. The total close delimeter equals the total open delimeters. \n",
    "\n",
    "<img width=\"1143\" alt=\"image\" src=\"https://github.com/nighthawkcoders/teacher/assets/111611921/49d1e372-8969-43bc-8457-d2514c64019c\">\n"
   ]
  },
  {
   "cell_type": "code",
   "execution_count": null,
   "metadata": {},
   "outputs": [],
   "source": [
    "public boolean isBalanced(ArrayList<String> delimeters){\n",
    "\n",
    "    int numOpen = 0; // counters for open delimeters \n",
    "    int numClose = 0; // counters for close delimeters \n",
    "\n",
    "    for(int i =0; i < delimeters.size(); i++){ // transverse through delimeters list\n",
    "        String delimeter = delimeters.get(i);  \n",
    "        if(delimeter == openDel){ \n",
    "            numOpen++; // increment open counter\n",
    "        }\n",
    "        else{\n",
    "            numClose++; // increment close counter\n",
    "        }\n",
    "        if(numClose >numClose) {\n",
    "            return false; // condition 1\n",
    "        }\n",
    "    }\n",
    "    if(numClose == numClose) {\n",
    "        return true; // requirement\n",
    "    }\n",
    "    else {\n",
    "        return false; \n",
    "    }\n",
    "}"
   ]
  }
 ],
 "metadata": {
  "kernelspec": {
   "display_name": "Java",
   "language": "java",
   "name": "java"
  },
  "language_info": {
   "name": "java"
  },
  "orig_nbformat": 4
 },
 "nbformat": 4,
 "nbformat_minor": 2
}
