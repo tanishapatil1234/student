{
 "cells": [
  {
   "attachments": {},
   "cell_type": "markdown",
   "metadata": {},
   "source": [
    "---\n",
    "toc: true\n",
    "comments: true\n",
    "layout: post\n",
    "title: Unit 5 Lesson HACKS\n",
    "---"
   ]
  },
  {
   "attachments": {},
   "cell_type": "markdown",
   "metadata": {},
   "source": [
    "# Hacks"
   ]
  },
  {
   "attachments": {},
   "cell_type": "markdown",
   "metadata": {},
   "source": [
    "**5.1-5.3 Hacks**\n",
    "\n",
    "**POPCORN HACKS: 0.2**\n",
    "\n",
    "**Create a simple To-Do List that utilizes the following (0.8):**\n",
    "\n",
    "1. Private and Public Declaration\n",
    "\n",
    "2. Constructor\n",
    "\n",
    "3. Mutable Array containing To-Do List Items\n",
    "\n",
    "Make sure to add descriptive comments that are describing your code!"
   ]
  },
  {
   "cell_type": "markdown",
   "metadata": {},
   "source": [
    "I decided to make a grocery list. "
   ]
  },
  {
   "cell_type": "code",
   "execution_count": 4,
   "metadata": {
    "vscode": {
     "languageId": "java"
    }
   },
   "outputs": [
    {
     "name": "stdout",
     "output_type": "stream",
     "text": [
      "Grocery List:\n",
      "1. tomato\n",
      "2. potato\n",
      "3. chocolate\n",
      "Grocery List:\n",
      "1. tomato\n",
      "2. potato\n"
     ]
    }
   ],
   "source": [
    "import java.util.ArrayList;\n",
    "\n",
    "public class GroceryList {\n",
    "    // Private arraylist to store the groceries\n",
    "    private ArrayList<String> groceryItems;\n",
    "\n",
    "    // constructor to initialize Grocery List\n",
    "    public GroceryList() {\n",
    "        groceryItems = new ArrayList<>(); \n",
    "    }\n",
    "\n",
    "    // public method(should be accessed throughout) to add a new grocery to list\n",
    "    public void addItem(String item) {\n",
    "        groceryItems.add(item);\n",
    "    }\n",
    "\n",
    "    // public method(should be accessed throughout) to remove a grocery from list\n",
    "    public void removeItem(String item) {\n",
    "        groceryItems.remove(item);\n",
    "    }\n",
    "\n",
    "    // publi method : displays current Grocery List\n",
    "    public void displayList() {\n",
    "        System.out.println(\"Grocery List:\");\n",
    "        for (int i = 0; i < groceryItems.size(); i++) {\n",
    "            System.out.println((i + 1) + \". \" + groceryItems.get(i));\n",
    "        }\n",
    "    }\n",
    "\n",
    "    public static void main(String[] args) {\n",
    "        // creating new instance of GroceryList class (object)\n",
    "        GroceryList groceryList = new GroceryList(); \n",
    "\n",
    "        // add method\n",
    "        groceryList.addItem(\"tomato\"); \n",
    "        groceryList.addItem(\"potato\"); \n",
    "        groceryList.addItem(\"chocolate\"); \n",
    "\n",
    "        groceryList.displayList(); \n",
    "\n",
    "        // remove method\n",
    "        groceryList.removeItem(\"chocolate\"); \n",
    "        groceryList.displayList(); \n",
    "    }\n",
    "}\n",
    "\n",
    "GroceryList.main(null);\n"
   ]
  },
  {
   "attachments": {},
   "cell_type": "markdown",
   "metadata": {},
   "source": [
    "**5.9-5.10 Hacks**\n",
    "\n",
    "**POPCORN HACKS: 0.2**\n",
    "\n",
    "**Write a two sentence reflection on the social and ethical implications of programming. (0.8)**"
   ]
  },
  {
   "cell_type": "markdown",
   "metadata": {},
   "source": [
    "It is important ot keep ethics in mind while programming. Coding carries ethical implications because it determines how people interact with technology. Responsible coders should ensure fair and secure technology use to avoid unintended harm (the most common example I can think of is AI resume bias). This is why programmers should consider the conequences of their code, address privacy issues, data security, and the code's potential impact within different communities. "
   ]
  }
 ],
 "metadata": {
  "kernelspec": {
   "display_name": "Java",
   "language": "java",
   "name": "java"
  },
  "language_info": {
   "codemirror_mode": "java",
   "file_extension": ".jshell",
   "mimetype": "text/x-java-source",
   "name": "Java",
   "pygments_lexer": "java",
   "version": "20.0.2+9-78"
  },
  "orig_nbformat": 4,
  "vscode": {
   "interpreter": {
    "hash": "e7370f93d1d0cde622a1f8e1c04877d8463912d04d973331ad4851f04de6915a"
   }
  }
 },
 "nbformat": 4,
 "nbformat_minor": 2
}
