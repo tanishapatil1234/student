{
 "cells": [
  {
   "cell_type": "markdown",
   "metadata": {},
   "source": [
    "---\n",
    "comments: true\n",
    "layout: post\n",
    "title: U2 Lesson Hacks\n",
    "description: Tanisha Patil Hacks\n",
    "type: hacks\n",
    "courses: { compsci: {week: 4} }\n",
    "---"
   ]
  },
  {
   "cell_type": "markdown",
   "metadata": {},
   "source": [
    "# HACK 1: \n",
    "Hack 1: (0.25) Create a void method that takes an integer input and adds it to an ArrayList. Then, add a non-void method that is able to call a certain index from the ArrayList."
   ]
  },
  {
   "cell_type": "markdown",
   "metadata": {},
   "source": [
    "Planning: "
   ]
  },
  {
   "cell_type": "code",
   "execution_count": null,
   "metadata": {},
   "outputs": [],
   "source": [
    "import java.util.ArrayList;\n",
    "\n",
    "public class ArrayListHack {\n",
    "    public static void main(String[] args) {\n",
    "        // call method to append integer to ArrayList.\n",
    "        \n",
    "        // call method to retrieve a value by index.\n",
    "        \n",
    "        // pprint the retrieved value\n",
    "    }\n",
    "\n",
    "\n",
    "    // initialize ArrayList to store integers.\n",
    "        \n",
    "    // define method : takes an integer input and appends to ArrayList > void no return\n",
    "    \n",
    "    // define method: call a certain index from the ArrayList and return that index > non void has return\n",
    "}\n"
   ]
  },
  {
   "cell_type": "markdown",
   "metadata": {},
   "source": [
    "Solution: (I used no chatgpt and did this on my own.)"
   ]
  },
  {
   "cell_type": "code",
   "execution_count": 26,
   "metadata": {},
   "outputs": [
    {
     "name": "stdout",
     "output_type": "stream",
     "text": [
      "The value at index 2 is: 9\n",
      "The value at index 3 is: 12\n"
     ]
    }
   ],
   "source": [
    "import java.util.ArrayList;\n",
    "\n",
    "public class ArrayListHack {\n",
    "    public static void main(String[] args) {\n",
    "        // create object list\n",
    "        ArrayListHack numbers = new ArrayListHack();\n",
    "        // call method to append integer to ArrayList.\n",
    "        numbers.addToList(3);\n",
    "        numbers.addToList(6);\n",
    "        numbers.addToList(9);\n",
    "        numbers.addToList(12);\n",
    "       \n",
    "        // call method to retrieve a value by index.\n",
    "        int value = numbers.getValueByIndex(2);\n",
    "        // pprint the retrieved value\n",
    "        System.out.println(\"The value at index 2 is: \" + value);\n",
    "\n",
    "        int value2 = numbers.getValueByIndex(3);\n",
    "        // pprint the retrieved value\n",
    "        System.out.println(\"The value at index 3 is: \" + value2);\n",
    "    }\n",
    "\n",
    "\n",
    "     // initialize ArrayList to store integers.\n",
    "    private ArrayList<Integer> list = new ArrayList<>();\n",
    "     \n",
    "    // Define method : takes an integer input and appends to ArrayList.\n",
    "    public void addToList(int value) {\n",
    "        list.add(value);\n",
    "    }\n",
    "\n",
    "    // Define method: to call a certain index from the ArrayList.\n",
    "    public int getValueByIndex(int i) {\n",
    "        if (i >= 0 && i < list.size()) {\n",
    "            return list.get(i);\n",
    "        } else {\n",
    "            return -1;\n",
    "        }\n",
    "    }\n",
    "\n",
    "}\n",
    "\n",
    "ArrayListHack.main(null)\n"
   ]
  },
  {
   "cell_type": "markdown",
   "metadata": {},
   "source": [
    "# HACK 3: \n",
    "Hack 3: (0.25) Create a class of your choosing that has multiple parameters of different types (int, boolean, String, double) and put 5 data values in that list. Show that you can access the information by giving some samples.\n"
   ]
  },
  {
   "cell_type": "markdown",
   "metadata": {},
   "source": [
    "Planning: "
   ]
  },
  {
   "cell_type": "code",
   "execution_count": null,
   "metadata": {},
   "outputs": [],
   "source": [
    "public class FieldHockeyStick {\n",
    "    // initialize all parameters\n",
    "\n",
    "    // constructor\n",
    "\n",
    "    // getters\n",
    "    \n",
    "\n",
    "    public static void main(String[] args) {\n",
    "        // stick1 is instance of the FieldHockeyStick class\n",
    "        \n",
    "        // print all data of object stick1\n",
    "}\n",
    "\n",
    "FieldHockeyStick.main(null);\n"
   ]
  },
  {
   "cell_type": "markdown",
   "metadata": {},
   "source": [
    "Solution: "
   ]
  },
  {
   "cell_type": "code",
   "execution_count": 30,
   "metadata": {},
   "outputs": [
    {
     "name": "stdout",
     "output_type": "stream",
     "text": [
      "Brand: Osaka\n",
      "Length: 36 inches\n",
      "Is Carbon: true\n",
      "Weight: 540.5 grams\n"
     ]
    }
   ],
   "source": [
    "public class FieldHockeyStick {\n",
    "    private int lengthInInches;\n",
    "    private boolean isCarbon;\n",
    "    private String brand;\n",
    "    private double weightInGrams;\n",
    "\n",
    "    public FieldHockeyStick(int lengthInInches, boolean isCarbon, String brand, double weightInGrams) {\n",
    "        this.lengthInInches = lengthInInches;\n",
    "        this.isCarbon = isCarbon;\n",
    "        this.brand = brand;\n",
    "        this.weightInGrams = weightInGrams;\n",
    "    }\n",
    "\n",
    "    // getters\n",
    "    public int getLengthInInches() {\n",
    "        return lengthInInches;\n",
    "    }\n",
    "\n",
    "    public boolean isCarbon() {\n",
    "        return isCarbon;\n",
    "    }\n",
    "\n",
    "    public String getBrand() {\n",
    "        return brand;\n",
    "    }\n",
    "\n",
    "    public double getWeightInGrams() {\n",
    "        return weightInGrams;\n",
    "    }\n",
    "\n",
    "    public static void main(String[] args) {\n",
    "        // stick1 is instance of the FieldHockeyStick class\n",
    "        FieldHockeyStick stick1 = new FieldHockeyStick(36, true, \"Osaka\", 540.5);\n",
    "\n",
    "        System.out.println(\"Brand: \" + stick1.getBrand());\n",
    "        System.out.println(\"Length: \" + stick1.getLengthInInches() + \" inches\");\n",
    "        System.out.println(\"Is Carbon: \" + stick1.isCarbon());\n",
    "        System.out.println(\"Weight: \" + stick1.getWeightInGrams() + \" grams\");\n",
    "    }\n",
    "}\n",
    "\n",
    "FieldHockeyStick.main(null);\n"
   ]
  },
  {
   "cell_type": "markdown",
   "metadata": {},
   "source": [
    "# HACK 4\n",
    "(0.25) Using your preliminary knowledge of loops, use a for loop to iterate through a person’s first and last name, separated by a space, and create methods to call a person’s first name and a person’s last name by iterating through the string. > USED GOOGLE A LITTLE FOR THIS"
   ]
  },
  {
   "cell_type": "code",
   "execution_count": 32,
   "metadata": {},
   "outputs": [
    {
     "name": "stdout",
     "output_type": "stream",
     "text": [
      "First Name: Tanisha\n",
      "Last Name: Patil\n"
     ]
    }
   ],
   "source": [
    "public class Person {\n",
    "    private String fullName;\n",
    "\n",
    "    public Person(String fullName) {  // constructor \n",
    "        this.fullName = fullName;\n",
    "    }\n",
    "\n",
    "    public String getFirstName() {\n",
    "        StringBuilder firstName = new StringBuilder(); // string builder is mutable string\n",
    "        boolean foundSpace = false;\n",
    "\n",
    "        for (char c : fullName.toCharArray()) { // iterate by character in array. If no space, firstname string is updtated\n",
    "            if (!foundSpace) {\n",
    "                if (c != ' ') {\n",
    "                    firstName.append(c);\n",
    "                } else {\n",
    "                    foundSpace = true;\n",
    "                }\n",
    "            }\n",
    "        }\n",
    "\n",
    "        return firstName.toString();\n",
    "    }\n",
    "\n",
    "\n",
    "    public String getLastName() {\n",
    "        StringBuilder lastName = new StringBuilder();\n",
    "        boolean foundSpace = false;\n",
    "\n",
    "        // iterratee through the name character array in reverse\n",
    "        for (int i = fullName.length() - 1; i >= 0; i--) { // reverse\n",
    "            char c = fullName.charAt(i);\n",
    "\n",
    "            if (!foundSpace) {\n",
    "                if (c != ' ') {\n",
    "                    lastName.insert(0, c);\n",
    "                } else {\n",
    "                    foundSpace = true;\n",
    "                }\n",
    "            }\n",
    "        }\n",
    "\n",
    "        return lastName.toString();\n",
    "    }\n",
    "\n",
    "    public static void main(String[] args) {\n",
    "        Person person = new Person(\"Tanisha Patil\");\n",
    "\n",
    "        // Call methods to get first name and last name\n",
    "        String firstName = person.getFirstName();\n",
    "        String lastName = person.getLastName();\n",
    "\n",
    "        System.out.println(\"First Name: \" + firstName);\n",
    "        System.out.println(\"Last Name: \" + lastName);\n",
    "    }\n",
    "}\n",
    "Person.main(null)\n"
   ]
  }
 ],
 "metadata": {
  "kernelspec": {
   "display_name": "Java",
   "language": "java",
   "name": "java"
  },
  "language_info": {
   "codemirror_mode": "java",
   "file_extension": ".jshell",
   "mimetype": "text/x-java-source",
   "name": "java",
   "pygments_lexer": "java",
   "version": "20.0.2+9-78"
  },
  "orig_nbformat": 4
 },
 "nbformat": 4,
 "nbformat_minor": 2
}
