{
 "cells": [
  {
   "cell_type": "markdown",
   "metadata": {},
   "source": [
    "---\n",
    "comments: true\n",
    "layout: post\n",
    "title: FRQ No. 3- Array/ArrayList\n",
    "description: 2019 FRQ 3\n",
    "type: hacks\n",
    "courses: { compsci: {week: 4} }\n",
    "---"
   ]
  },
  {
   "cell_type": "markdown",
   "metadata": {},
   "source": [
    "# FRQ No. 3- Array/ArrayList\n",
    "> Tanisha Patil FRQ Mini Lab Work"
   ]
  },
  {
   "cell_type": "markdown",
   "metadata": {},
   "source": [
    "- [Full Problem](https://apcentral.collegeboard.org/media/pdf/ap19-frq-computer-science-a.pdf)\n",
    "- [Scoring Guidelines](https://apcentral.collegeboard.org/media/pdf/ap19-sg-computer-science-a.pdf)"
   ]
  },
  {
   "cell_type": "markdown",
   "metadata": {},
   "source": [
    "<img width=\"613\" alt=\"image\" src=\"https://github.com/nighthawkcoders/teacher/assets/111611921/2a3a4dce-1d0a-4ba1-a4fe-7eddac8b509c\">\n"
   ]
  },
  {
   "cell_type": "markdown",
   "metadata": {},
   "source": [
    "We’re being asked to implement is a couple of methods that determine if an expression is properly balanced using delimiters.\n",
    "\n",
    "-  (x + y) = (y + x) is properly delimited because there are the same number of opening delimiters ( as closing delimiters ) and every opening delimiter has a matching closing delimiter. \n",
    "\n",
    "- (x + y)) = (y + x is not properly delimited. There are the right number of opening and closing delimiters, but they don’t partner up correctly."
   ]
  },
  {
   "cell_type": "markdown",
   "metadata": {},
   "source": [
    "# Part A: Complete the method getDelimetersList. \n",
    "> Requirements: Returns an ArrayList of delimeters from the array tokens. \n",
    "\n",
    "<img width=\"1143\" alt=\"image\" src=\"https://github.com/nighthawkcoders/teacher/assets/111611921/49d1e372-8969-43bc-8457-d2514c64019c\">"
   ]
  },
  {
   "cell_type": "markdown",
   "metadata": {},
   "source": [
    "## My Solution (A)"
   ]
  },
  {
   "cell_type": "code",
   "execution_count": null,
   "metadata": {
    "vscode": {
     "languageId": "java"
    }
   },
   "outputs": [],
   "source": [
    "public ArrayList<String> getDelimetersList(String[] token){\n",
    "    ArrayList<String> delimiters = newArrayList<string>(); // Creates empty list to return \n",
    "    for(string token : tokens){ // for loop to iterate through tokens list \n",
    "        if(token == openDel || token == closeDel) {// if statement to check if token is delimeter\n",
    "           //  CORRECTION: USE .equals WHEN COMPARING STRINGS\n",
    "            delimiters.add(token); // appending delimeters array with token\n",
    "        } // if\n",
    "    } // for\n",
    "    return delimeters;\n",
    "}"
   ]
  },
  {
   "cell_type": "code",
   "execution_count": 51,
   "metadata": {
    "vscode": {
     "languageId": "java"
    }
   },
   "outputs": [
    {
     "name": "stdout",
     "output_type": "stream",
     "text": [
      "[(, )]\n"
     ]
    }
   ],
   "source": [
    "public class DelimiterExample {\n",
    "    public static void main(String[] args) {\n",
    "        String[] tokens = {\"(\", \"x+5\", \")\"};\n",
    "        \n",
    "        String[] delimiters = getDelimitersArray(tokens);\n",
    "        System.out.println(Arrays.toString(delimiters));\n",
    "\n",
    "    }\n",
    "\n",
    "    public static String[] getDelimitersArray(String[] tokens) {\n",
    "        ArrayList<String> delimiters = new ArrayList<>(); // Creates an empty list to store delimiters \n",
    "        String openDel = \"(\";\n",
    "        String closeDel = \")\";\n",
    "        \n",
    "        for (String token : tokens) { // Loop to iterate through tokens list \n",
    "            if (token.equals(openDel) || token.equals(closeDel)) { // Check if token is a delimiter\n",
    "                delimiters.add(token); // Append delimiters array with token\n",
    "            } // if\n",
    "        } // for\n",
    "        \n",
    "        // Convert ArrayList to an array\n",
    "        String[] delimitersArray = delimiters.toArray(new String[0]);\n",
    "        \n",
    "        return delimitersArray; // Return the array containing delimiters\n",
    "    }\n",
    "}\n",
    "\n",
    "DelimiterExample.main(null) // before override command\n"
   ]
  },
  {
   "cell_type": "markdown",
   "metadata": {},
   "source": [
    "## Grading - AP Rubric (A) 4/5\n",
    "\n",
    "| Requirement | Points Gained | Reasoning |\n",
    "|:---:|---|:---:|\n",
    "| Creates ArrayList<String> | 1/1 | line 2: ArrayList<String> delimeters =newArrayList<string>();  // Creates empty list to return |\n",
    "| Access all elements in array tokens | 1/1 | line 3: for(String token:tokens) {  // Loop to iterate through tokens list |\n",
    "| Compares strings in tokens with both instance variables (must be a loop) | 0/1 | line 4: if(token == openDel \\|\\|token ==closeDel) { // if statement to check if token is delimeter // MISTAKE: MUST USE .equals FOR STRING COMPARISON |\n",
    "| Adds delimiters into ArrayList in original order | 1/1 | Return: [(, )] |"
   ]
  },
  {
   "cell_type": "markdown",
   "metadata": {},
   "source": [
    "## Key Takeaways A\n",
    "- Annotate the problem, define the parameters, desired output\n",
    "- Determine where loops are used (this is important as all Array list frqs will use loops/iteration)\n",
    "- DO NOT use == for string comparison "
   ]
  },
  {
   "cell_type": "markdown",
   "metadata": {},
   "source": [
    "# Part B: Complete the method isBalanced. \n",
    "> Requirements: Returns true is delimeters are balanced and false if not. Condtions for true: When traversing the array list, from the first to last element there is no point where there are more close delimeters than open delimeters. The total close delimeter equals the total open delimeters. \n",
    "\n",
    "\n",
    "<img width=\"688\" alt=\"image\" src=\"https://github.com/nighthawkcoders/teacher/assets/111611921/dad7f041-cc04-4099-9281-a56fd42289a2\">\n"
   ]
  },
  {
   "cell_type": "markdown",
   "metadata": {},
   "source": [
    "## My Solution (B)"
   ]
  },
  {
   "cell_type": "code",
   "execution_count": 80,
   "metadata": {
    "vscode": {
     "languageId": "java"
    }
   },
   "outputs": [],
   "source": [
    "public boolean isBalanced(ArrayList<String> delimeters){\n",
    "    int numOpen = 0; // counters for open delimeters \n",
    "    int numClose = 0; // counters for close delimeters \n",
    "\n",
    "    for (String str : delimeters){ // transverse through delimeters list\n",
    "        if(str.equals(openDel)){ \n",
    "            numOpen++; // increment open counter\n",
    "        }\n",
    "        else{\n",
    "            numClose++; // increment close counter\n",
    "        }\n",
    "        if(numClose >numOpen) {\n",
    "            return false; // condition 1\n",
    "        }\n",
    "    }\n",
    "    if(numClose == numOpen) {\n",
    "        return true; // requirement\n",
    "    }\n",
    "    else {\n",
    "        return false; \n",
    "    }\n",
    "}\n"
   ]
  },
  {
   "cell_type": "code",
   "execution_count": 113,
   "metadata": {
    "vscode": {
     "languageId": "java"
    }
   },
   "outputs": [
    {
     "name": "stdout",
     "output_type": "stream",
     "text": [
      "Array: [(, (, ), )]\n",
      "Is balanced: true\n"
     ]
    }
   ],
   "source": [
    "import java.util.ArrayList;\n",
    "\n",
    "public class Balanced {\n",
    "    public static void main(String[] args) {\n",
    "        ArrayList<String> delimiters = new ArrayList<>();\n",
    "        delimiters.add(\"(\");\n",
    "        delimiters.add(\"(\");\n",
    "        delimiters.add(\")\");\n",
    "        delimiters.add(\")\");\n",
    "        \n",
    "        boolean result = isBalanced(delimiters);\n",
    "        \n",
    "        System.out.println(\"Array: \" + delimiters);\n",
    "        System.out.println(\"Is balanced: \" + result);\n",
    "    }\n",
    "\n",
    "    public static boolean isBalanced(ArrayList<String> delimiters) {\n",
    "        String openDel = \"(\";\n",
    "        String closeDel = \")\";\n",
    "        int numOpen = 0; // counters for open delimiters\n",
    "        int numClose = 0; // counters for close delimiters\n",
    "\n",
    "        for (String str : delimiters){ // transverse through delimeters list\n",
    "            if(str.equals(openDel)){ \n",
    "                numOpen++; // increment open counter\n",
    "            }\n",
    "            else{\n",
    "                numClose++; // increment close counter\n",
    "            }\n",
    "            if(numClose > numOpen) {\n",
    "                return false; // condition 1\n",
    "            }\n",
    "        }\n",
    "        if(numClose == numClose) {\n",
    "            return true; // requirement\n",
    "        }\n",
    "        else {\n",
    "            return false; \n",
    "        }\n",
    "        \n",
    "    }\n",
    "}\n",
    "\n",
    "Balanced.main(null) // before override command\n",
    "\n"
   ]
  },
  {
   "cell_type": "code",
   "execution_count": 114,
   "metadata": {
    "vscode": {
     "languageId": "java"
    }
   },
   "outputs": [
    {
     "name": "stdout",
     "output_type": "stream",
     "text": [
      "Array: [(, (, )]\n",
      "Is balanced: false\n"
     ]
    }
   ],
   "source": [
    "import java.util.ArrayList;\n",
    "\n",
    "public class Balanced {\n",
    "    public static void main(String[] args) {\n",
    "        ArrayList<String> delimiters = new ArrayList<>();\n",
    "        delimiters.add(\"(\");\n",
    "        delimiters.add(\"(\");\n",
    "        delimiters.add(\")\");\n",
    "        \n",
    "        boolean result = isBalanced(delimiters);\n",
    "        \n",
    "        System.out.println(\"Array: \" + delimiters);\n",
    "        System.out.println(\"Is balanced: \" + result);\n",
    "    }\n",
    "\n",
    "    public static boolean isBalanced(ArrayList<String> delimiters) {\n",
    "        int numOpen = 0; // counters for open delimiters\n",
    "        int numClose = 0; // counters for close delimiters\n",
    "\n",
    "        for (String str : delimiters){ // transverse through delimeters list\n",
    "            if(str.equals(openDel)){ \n",
    "                numOpen++; // increment open counter\n",
    "            }\n",
    "            else{\n",
    "                numClose++; // increment close counter\n",
    "            }\n",
    "            if(numClose >numOpen) {\n",
    "                return false; // condition 1\n",
    "            }\n",
    "        }\n",
    "    if(numClose == numOpen) {\n",
    "            return true; // requirement\n",
    "        }\n",
    "    else {\n",
    "            return false; \n",
    "        }\n",
    "    }\n",
    "}\n",
    "\n",
    "Balanced.main(null) // before override command\n",
    "\n"
   ]
  },
  {
   "cell_type": "markdown",
   "metadata": {},
   "source": [
    "## Grading - AP Rubric (B)   5/5\n",
    "\n",
    "| Requirement | Points Gained | Reasoning |\n",
    "|:---:|---|:---:|\n",
    "| Initializes accumulator(s) | 1/1 | line 2: int numOpen =0; <br>line 3: int numClose= 0; <br>// accumulator variables  |\n",
    "| Accesses all elements in ArrayList delimiters (no bounds errors) | 1/1 | for(String str:delimiters){ |\n",
    "| Compares strings in delimiters with instance variables and updates accumulator(s)<br>accordingly | 1/1 | if(str.equals(openDel)){ <br>    numOpen++; <br>   }<br>            <br>else{<br>   numClose++; <br>   } |\n",
    "| Identifies and returns appropriate boolean value to implement one rule | 1/1 | if(numClose > numClose) {<br>   return false; <br>            } |\n",
    "| Identifies and returns appropriate boolean values for all cases | 1/1 | Yes |"
   ]
  },
  {
   "cell_type": "markdown",
   "metadata": {},
   "source": [
    "## Key Takeaways B\n",
    "- Accumalator (counter variable) is required in this problem \n",
    "- Look for diction that suggests a specific strategy (count, transverse, etc.)\n",
    "- NEVER use == for string comparison \n",
    "- Accumalators must be initialized outside of the loop \n"
   ]
  },
  {
   "cell_type": "markdown",
   "metadata": {},
   "source": [
    "### Experimenting with Arrays"
   ]
  },
  {
   "cell_type": "code",
   "execution_count": 123,
   "metadata": {
    "vscode": {
     "languageId": "java"
    }
   },
   "outputs": [
    {
     "name": "stdout",
     "output_type": "stream",
     "text": [
      "[0, 1, 2, 3]\n"
     ]
    }
   ],
   "source": [
    "import java.util.ArrayList;\n",
    "\n",
    "public class AddData {\n",
    "    public static void main(String[] args) {\n",
    "        ArrayList<Integer> numbers = new ArrayList<>();\n",
    "        \n",
    "        // adding data to the end of the list \n",
    "        numbers.add(1);\n",
    "        numbers.add(2);\n",
    "        numbers.add(4);\n",
    "        \n",
    "        // adding data based on index (probably won't be used in AP)\n",
    "        numbers.set(2, 3);\n",
    "        numbers.add(0, 0);\n",
    "        \n",
    "        System.out.println(numbers); \n",
    "    }\n",
    "}\n",
    "\n",
    "AddData.main(null);\n"
   ]
  },
  {
   "cell_type": "code",
   "execution_count": 131,
   "metadata": {
    "vscode": {
     "languageId": "java"
    }
   },
   "outputs": [
    {
     "name": "stdout",
     "output_type": "stream",
     "text": [
      "[row, column] notation:\n",
      "[0, 0]: 1\n",
      "[0, 1]: 2\n",
      "[0, 2]: 3\n",
      "[1, 0]: 4\n",
      "[1, 1]: 5\n",
      "[1, 2]: 6\n",
      "[2, 0]: 7\n",
      "[2, 1]: 8\n",
      "[2, 2]: 9\n"
     ]
    }
   ],
   "source": [
    "\n",
    "public class DisplayHV {\n",
    "    public static void main(String[] args) {\n",
    "        ArrayList<ArrayList<Integer>> matrix = new ArrayList<>();\n",
    "        matrix.add(new ArrayList<>(List.of(1, 2, 3)));\n",
    "        matrix.add(new ArrayList<>(List.of(4, 5, 6)));\n",
    "        matrix.add(new ArrayList<>(List.of(7, 8, 9)));\n",
    "\n",
    "        System.out.println(\"[row, column] notation:\");\n",
    "        for (int i = 0; i < matrix.size(); i++) {\n",
    "            for (int j = 0; j < matrix.get(i).size(); j++) {\n",
    "                System.out.println(\"[\" + i + \", \" + j + \"]: \" + matrix.get(i).get(j));\n",
    "            }\n",
    "        }\n",
    "    }\n",
    "}\n",
    "\n",
    "\n",
    "DisplayHV.main(null)"
   ]
  },
  {
   "cell_type": "code",
   "execution_count": 132,
   "metadata": {
    "vscode": {
     "languageId": "java"
    }
   },
   "outputs": [
    {
     "name": "stdout",
     "output_type": "stream",
     "text": [
      "1 2 3  \n",
      "4 5 6  \n",
      "7 8 9 "
     ]
    }
   ],
   "source": [
    "\n",
    "public class DisplayHV {\n",
    "    public static void main(String[] args) {\n",
    "        ArrayList<ArrayList<Integer>> matrix = new ArrayList<>();\n",
    "        matrix.add(new ArrayList<>(List.of(1, 2, 3)));\n",
    "        matrix.add(new ArrayList<>(List.of(4, 5, 6)));\n",
    "        matrix.add(new ArrayList<>(List.of(7, 8, 9)));\n",
    "        matrix.add(new ArrayList<>(List.of(0)));\n",
    "\n",
    "        for (int i = 0; i < 1; i++) {\n",
    "            for (int j = 0; j < matrix.get(i).size(); j++) {\n",
    "                System.out.print(matrix.get(i).get(j)+ \" \") ;\n",
    "            }\n",
    "        }                \n",
    "        System.out.println(\" \");\n",
    "\n",
    "        for (int i = 1; i < 2; i++) {\n",
    "            for (int j = 0; j < matrix.get(i).size(); j++) {\n",
    "                System.out.print(matrix.get(i).get(j)+ \" \") ;\n",
    "            }\n",
    "        }\n",
    "        System.out.println(\" \");\n",
    "\n",
    "        for (int i = 2; i < 3; i++) {\n",
    "            for (int j = 0; j < matrix.get(i).size(); j++) {\n",
    "                System.out.print(matrix.get(i).get(j)+ \" \") ;\n",
    "            }\n",
    "        }\n",
    "        \n",
    "    }\n",
    "}\n",
    "\n",
    "\n",
    "DisplayHV.main(null)"
   ]
  }
 ],
 "metadata": {
  "kernelspec": {
   "display_name": "Java",
   "language": "java",
   "name": "java"
  },
  "language_info": {
   "codemirror_mode": "java",
   "file_extension": ".jshell",
   "mimetype": "text/x-java-source",
   "name": "Java",
   "pygments_lexer": "java",
   "version": "20.0.2+9-78"
  },
  "orig_nbformat": 4
 },
 "nbformat": 4,
 "nbformat_minor": 2
}
