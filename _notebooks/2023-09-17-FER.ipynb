{
 "cells": [
  {
   "cell_type": "markdown",
   "metadata": {},
   "source": [
    "---\n",
    "comments: true\n",
    "layout: post\n",
    "title: FER Process Blog\n",
    "description: Process of creating face recognizer blog\n",
    "type: hacks\n",
    "courses: { compsci: {week: 4} }\n",
    "---"
   ]
  },
  {
   "cell_type": "markdown",
   "metadata": {},
   "source": [
    "*Potential Problems/Solutions of a FER Dataset*\n",
    "- Imbalance: Un equal data for each type of emotion \n",
    "> Solution: Scale/rotate to create more data in order to equalize\n",
    "- Variety: Too many different sources (real face, painting, cartoon). This could cause overfitting \n",
    "> Solution: Avoid any data other than face data \n",
    "- Distractors: Hands, glasses, etc. \n",
    "- Contrast variety: Contrasting black/white could interfere with feature distinction \n",
    "- Outliers: Incorrect data, inaccurate, etc. "
   ]
  },
  {
   "cell_type": "markdown",
   "metadata": {},
   "source": [
    "*Tools*\n",
    "- Imbalance: Un equal data for each type of emotion \n",
    "> Solution: Scale/rotate to create more data in order to equalize\n",
    "- Variety: Too many different sources (real face, painting, cartoon). This could cause overfitting \n",
    "> Solution: Avoid any data other than face data \n",
    "- Distractors: Hands, glasses, etc. \n",
    "- Contrast variety: Contrasting black/white could interfere with feature distinction \n",
    "- Outliers: Incorrect data, inaccurate, etc. "
   ]
  },
  {
   "cell_type": "code",
   "execution_count": null,
   "metadata": {},
   "outputs": [],
   "source": []
  },
  {
   "cell_type": "markdown",
   "metadata": {},
   "source": []
  },
  {
   "cell_type": "code",
   "execution_count": null,
   "metadata": {},
   "outputs": [],
   "source": []
  }
 ],
 "metadata": {
  "kernelspec": {
   "display_name": "Java",
   "language": "java",
   "name": "java"
  },
  "language_info": {
   "codemirror_mode": {
    "name": "ipython",
    "version": 3
   },
   "file_extension": ".py",
   "mimetype": "text/x-python",
   "name": "java",
   "nbconvert_exporter": "python",
   "pygments_lexer": "ipython3",
   "version": "3.11.4"
  },
  "orig_nbformat": 4
 },
 "nbformat": 4,
 "nbformat_minor": 2
}
