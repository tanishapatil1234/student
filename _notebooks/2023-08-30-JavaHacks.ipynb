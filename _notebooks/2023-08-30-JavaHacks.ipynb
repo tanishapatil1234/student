{
 "cells": [
  {
   "cell_type": "markdown",
   "metadata": {},
   "source": [
    "---\n",
    "comments: true\n",
    "layout: post\n",
    "title: Java W1 Hacks\n",
    "description: Week 1 hacks, first attempts at Java\n",
    "type: hacks\n",
    "courses: { compsci: {week: 2} }\n",
    "---"
   ]
  },
  {
   "cell_type": "markdown",
   "metadata": {},
   "source": [
    "[Week 2 - JAVA HACKS ](https://github.com/tanishapatil1234/student/issues/1)"
   ]
  },
  {
   "cell_type": "markdown",
   "metadata": {},
   "source": [
    "## Hack 0: College Board Units\n",
    "> look for comments throughout for units\n",
    "\n",
    "Answer why you think this reorganization and AP indetification is important?\n",
    "> Re organization and AP identifiction is important so the code can be as concise and efficient as possible. Also, AP identification can be useful to learn foundational skills as well as define concepts that will be shown to us on the AP exam. "
   ]
  },
  {
   "cell_type": "markdown",
   "metadata": {},
   "source": [
    "|      Units      |  Definition |\n",
    "|:---------------:|:--------:|\n",
    "| Primitive Types | data types in java: char, int, float, double, etc  |\n",
    "| Objects         | instance of a java class  |\n",
    "| Boolean         | primtive, t/f  |\n",
    "| Iteration       | repetition |\n",
    "| Writing Classes | blueprint to create objects, define methods, instance variables  |\n",
    "| Array           | store multiple variables   |\n",
    "| ArrayList       | resiable array, elements can be added/removed  |\n",
    "| 2D Array        | multidimensional array, this table |\n",
    "| Inheritance     | one class acquires the behavior of a parent class   |\n",
    "| Recursion       | making the function call itself  |"
   ]
  },
  {
   "cell_type": "markdown",
   "metadata": {},
   "source": [
    "## Hack 1: Anatomy of a Class diagram\n",
    "<div style=\"position: relative; width: 100%; height: 0; padding-top: 50.0000%;\n",
    " padding-bottom: 0; box-shadow: 0 2px 8px 0 rgba(63,69,81,0.16); margin-top: 1.6em; margin-bottom: 0.9em; overflow: hidden;\n",
    " border-radius: 8px; will-change: transform;\">\n",
    "  <iframe loading=\"lazy\" style=\"position: absolute; width: 100%; height: 100%; top: 0; left: 0; border: none; padding: 0;margin: 0;\"\n",
    "    src=\"https:&#x2F;&#x2F;www.canva.com&#x2F;design&#x2F;DAFskrQfLRQ&#x2F;view?embed\" allowfullscreen=\"allowfullscreen\" allow=\"fullscreen\">\n",
    "  </iframe>\n",
    "</div>\n",
    "<a href=\"https:&#x2F;&#x2F;www.canva.com&#x2F;design&#x2F;DAFskrQfLRQ&#x2F;view?utm_content=DAFskrQfLRQ&amp;utm_campaign=designshare&amp;utm_medium=embeds&amp;utm_source=link\" target=\"_blank\" rel=\"noopener\">Anatomy of a Class</a> by Tanisha Patil"
   ]
  },
  {
   "cell_type": "code",
   "execution_count": 1,
   "metadata": {
    "vscode": {
     "languageId": "java"
    }
   },
   "outputs": [
    {
     "name": "stdout",
     "output_type": "stream",
     "text": [
      "Hello World!\n"
     ]
    }
   ],
   "source": [
    "// Define Static Method within a Class\n",
    "public class HelloStatic {\n",
    "    // Java standard runtime entry point\n",
    "    public static void main(String[] args) {    \n",
    "        System.out.println(\"Hello World!\");\n",
    "    }\n",
    "}\n",
    "// A method call allows us to execute code that is wrapped in Class\n",
    "HelloStatic.main(null);   // Class prefix allows reference of Static Method"
   ]
  },
  {
   "cell_type": "markdown",
   "metadata": {},
   "source": [
    "## Hack 2: Build purposeful dynamic Class, with an Object, and generate an Instance of the class\n",
    "> Also included comments for definition of class, instance of class, constructors (and their signature), calling object method with parameter (setters)"
   ]
  },
  {
   "cell_type": "code",
   "execution_count": 15,
   "metadata": {
    "vscode": {
     "languageId": "java"
    }
   },
   "outputs": [],
   "source": [
    "// class Item \n",
    "public class Item { //*writing classes*/\n",
    "    // instance variables\n",
    "  //  static Sting company; -> example of static instance\n",
    "    private String name; // *primitive type*\n",
    "    private double price;\n",
    "\n",
    "\n",
    "    // constructor (allows setting initial values), 2 arguments\n",
    "    // constructor signature: public \n",
    "    public Item(String name, double price) {\n",
    "        this.name = name;\n",
    "        this.price = price;\n",
    "    }\n",
    "\n",
    "    // getters\n",
    "    public String getName() { \n",
    "        return name;\n",
    "    }\n",
    "\n",
    "    public double getPrice() {\n",
    "        return price;\n",
    "    }\n",
    "\n",
    "    // setters\n",
    "    public void setPrice(double price) {\n",
    "        this.price = price;\n",
    "    }\n",
    "\n",
    "    // Override toString method\n",
    "    // Before the output was in the format \"class @ hash code\", the lines below fix to string formatting \n",
    "    @Override\n",
    "    public String toString() {\n",
    "        return name + \": $\" + price;\n",
    "    }\n",
    "\n",
    "\n",
    "    public static void main(String[] args) {\n",
    "        Item item1 = new Item(\"Laptop\", 1238.92); //*objects*/\n",
    "        Item item2 = new Item(\"Iphone\", 938.92);\n",
    "\n",
    "        System.out.println(\"Initial Information:\");\n",
    "        System.out.println(item1);\n",
    "        System.out.println(item2);\n",
    "        \n",
    "        // calling a setter with parameters \n",
    "        item1.setPrice(899.99);\n",
    "        item2.setPrice(599.99);\n",
    "\n",
    "        System.out.println(\"\\nUpdated Information:\");\n",
    "        System.out.println(item1);\n",
    "        System.out.println(item2);\n",
    "    }\n",
    "}\n"
   ]
  },
  {
   "cell_type": "code",
   "execution_count": 14,
   "metadata": {
    "vscode": {
     "languageId": "java"
    }
   },
   "outputs": [
    {
     "name": "stdout",
     "output_type": "stream",
     "text": [
      "Initial Information:\n",
      "REPL.$JShell$14C$Item@8210ffe\n",
      "REPL.$JShell$14C$Item@4d23809e\n",
      "\n",
      "Updated Information:\n",
      "REPL.$JShell$14C$Item@8210ffe\n",
      "REPL.$JShell$14C$Item@4d23809e\n"
     ]
    }
   ],
   "source": [
    "Item.main(null) // before override command"
   ]
  },
  {
   "cell_type": "code",
   "execution_count": 16,
   "metadata": {
    "vscode": {
     "languageId": "java"
    }
   },
   "outputs": [
    {
     "name": "stdout",
     "output_type": "stream",
     "text": [
      "Initial Information:\n",
      "Laptop: $1238.92\n",
      "Iphone: $938.92\n",
      "\n",
      "Updated Information:\n",
      "Laptop: $899.99\n",
      "Iphone: $599.99\n"
     ]
    }
   ],
   "source": [
    "Item.main(null)"
   ]
  },
  {
   "cell_type": "markdown",
   "metadata": {},
   "source": [
    "## Hack 3: Java Console Games"
   ]
  },
  {
   "cell_type": "markdown",
   "metadata": {},
   "source": [
    "### Rock Paper Scissors TV"
   ]
  },
  {
   "cell_type": "markdown",
   "metadata": {},
   "source": [
    "First attempt:"
   ]
  },
  {
   "cell_type": "code",
   "execution_count": 17,
   "metadata": {
    "vscode": {
     "languageId": "java"
    }
   },
   "outputs": [
    {
     "ename": "CompilationException",
     "evalue": "",
     "output_type": "error",
     "traceback": [
      "\u001b[1m\u001b[30m|   \u001b[1m\u001b[30m                } else \u001b[0m\u001b[1m\u001b[30m\u001b[41mif (cmove.equals(\"p\"));\u001b[0m\u001b[1m\u001b[30m {\u001b[0m",
      "\u001b[1m\u001b[31m'else' without 'if'\u001b[0m",
      "",
      "\u001b[1m\u001b[30m|   \u001b[1m\u001b[30m        else \u001b[0m\u001b[1m\u001b[30m\u001b[41mif (pmove.equals(\"p\"));\u001b[0m\u001b[1m\u001b[30m { \u001b[0m",
      "\u001b[1m\u001b[31m'else' without 'if'\u001b[0m",
      "",
      "\u001b[1m\u001b[30m|   \u001b[1m\u001b[30m                    } else \u001b[0m\u001b[1m\u001b[30m\u001b[41mif (cmove.equals(\"s\"));\u001b[0m\u001b[1m\u001b[30m {\u001b[0m",
      "\u001b[1m\u001b[31m'else' without 'if'\u001b[0m",
      "",
      "\u001b[1m\u001b[30m|   \u001b[1m\u001b[30m        else \u001b[0m\u001b[1m\u001b[30m\u001b[41mif (pmove.equals(\"s\"));\u001b[0m\u001b[1m\u001b[30m { \u001b[0m",
      "\u001b[1m\u001b[31m'else' without 'if'\u001b[0m",
      "",
      "\u001b[1m\u001b[30m|   \u001b[1m\u001b[30m                } else \u001b[0m\u001b[1m\u001b[30m\u001b[41mif (cmove.equals(\"r\"));\u001b[0m\u001b[1m\u001b[30m {\u001b[0m",
      "\u001b[1m\u001b[31m'else' without 'if'\u001b[0m",
      ""
     ]
    }
   ],
   "source": [
    "import java.util.Random; \n",
    "import java.util.Scanner; \n",
    "\n",
    "public class RockPaperScissors {\n",
    "\n",
    "    public static void main(String[] args) {\n",
    "        // User input r p or s \n",
    "        Scanner scanner = new Scanner(System.in); \n",
    "        System.out.println(\"Enter move (r, p, or s)\"); \n",
    "        String pmove = scanner.nextLine();\n",
    "        // * ideally add validation statement from trash inputs\n",
    "        // Computer randomization of r p or s from an array \n",
    "        String[] rps = {\"r\", \"p\", \"s\"}; //*Array, ArrayList */\n",
    "        String cmove = rps[new Random().nextInt(3)]; // outputs 0, 1, or 2 at random to select the index of r p or s from the list\n",
    "        // Compare the two \n",
    "        System.outprintln(\"Computer played: \", cmove);\n",
    "\n",
    "        if (pmove.equals(cmove)) { // simplify by three lines by adding the comparison statement for tie up here\n",
    "            System.out.printlin(\"Tie!\");\n",
    "        }  \n",
    "        else if (pmove.equals(\"r\")); { \n",
    "                if (cmove.equals(\"s\")); {\n",
    "                    System.out.printlin(\"You win!\");\n",
    "                } else if (cmove.equals(\"p\")); {\n",
    "                    System.out.printlin(\"You lose!\");\n",
    "                  }\n",
    "                }\n",
    "        else if (pmove.equals(\"p\")); { \n",
    "                    if (cmove.equals(\"r\")); {\n",
    "                        System.out.printlin(\"You win!\");\n",
    "                    } else if (cmove.equals(\"s\")); {\n",
    "                        System.out.printlin(\"You lose!\");\n",
    "                      }\n",
    "                    }  \n",
    "        else if (pmove.equals(\"s\")); { \n",
    "                if (cmove.equals(\"p\")); {\n",
    "                    System.out.printlin(\"You win!\");\n",
    "                } else if (cmove.equals(\"r\")); {\n",
    "                    System.out.printlin(\"You lose!\");\n",
    "                  }\n",
    "                }  \n",
    "            } \n",
    "        } \n"
   ]
  },
  {
   "cell_type": "markdown",
   "metadata": {},
   "source": [
    "Second attempt:"
   ]
  },
  {
   "cell_type": "code",
   "execution_count": 3,
   "metadata": {
    "vscode": {
     "languageId": "java"
    }
   },
   "outputs": [],
   "source": [
    "import java.util.Random;\n",
    "import java.util.Scanner;\n",
    "\n",
    "public class RockPaperScissors {\n",
    "  public static void main(String[] args) {  \n",
    "    Scanner scanner = new Scanner(System.in); // user input\n",
    "    \n",
    "  // COMPUTER CHOICE\n",
    "    // Computer randomly chooses r, p, s from array\n",
    "    while (true) {\n",
    "      String[] rps = {\"r\", \"p\", \"s\"}; //*Array, ArrayList */\n",
    "      String cmove = rps[new Random().nextInt(3)]; // random index: 0, 1, 2\n",
    "      String pmove; // initialize pmove\n",
    "    \n",
    "  // PLAYER CHOICE\n",
    "      while(true) {\n",
    "        System.out.println(\"Please enter your move (r, p, or s)\");\n",
    "        pmove = scanner.nextLine(); // scanner for next line in console\n",
    "        break;\n",
    "      }\n",
    "      \n",
    "      System.out.println(\"Computer played: \" + cmove);\n",
    "      System.out.println(\"You played: \" + pmove);\n",
    "    \n",
    "// COMPARISON\n",
    "  // this line saves three lines compared to the original code by making the tie comparison first\n",
    "      if (pmove.equals(cmove)) {  \n",
    "        System.out.println(\"The game was a tie!\");\n",
    "      }\n",
    "      else if (pmove.equals(\"r\")) {\n",
    "        if (cmove.equals(\"p\")) {\n",
    "          System.out.println(\"You lose!\");\n",
    "          \n",
    "        } else if (cmove.equals(\"s\")) {\n",
    "          System.out.println(\"You win!\");\n",
    "        }\n",
    "      }\n",
    "      \n",
    "      else if (pmove.equals(\"p\")) {\n",
    "        if (cmove.equals(\"r\")) {\n",
    "          System.out.println(\"You win!\");\n",
    "          \n",
    "        } else if (cmove.equals(\"s\")) {\n",
    "          System.out.println(\"You lose!\");\n",
    "        }\n",
    "      }\n",
    "      \n",
    "      else if (pmove.equals(\"s\")) {\n",
    "        if (cmove.equals(\"p\")) {\n",
    "          System.out.println(\"You win!\");\n",
    "          \n",
    "        } else if (cmove.equals(\"r\")) {\n",
    "          System.out.println(\"You lose!\");\n",
    "        }\n",
    "      }\n",
    "\n",
    "      break;\n",
    "    \n",
    "  }\n",
    "}\n",
    "}\n",
    "// ideally add an exit code : continue playing : y/n\n",
    ";"
   ]
  },
  {
   "cell_type": "code",
   "execution_count": 4,
   "metadata": {
    "vscode": {
     "languageId": "java"
    }
   },
   "outputs": [
    {
     "name": "stdout",
     "output_type": "stream",
     "text": [
      "Please enter your move (r, p, or s)\n",
      "Computer played: p\n",
      "You played: r\n",
      "You lose!\n"
     ]
    }
   ],
   "source": [
    "RockPaperScissors.main(null)   "
   ]
  },
  {
   "cell_type": "markdown",
   "metadata": {},
   "source": [
    "### Number Guessing TV"
   ]
  },
  {
   "cell_type": "code",
   "execution_count": null,
   "metadata": {
    "vscode": {
     "languageId": "java"
    }
   },
   "outputs": [],
   "source": [
    "import java.util.Random;\n",
    "import java.util.Scanner;\n",
    "public class HigherorLower {\n",
    "public static void main(String[] args) { \n",
    "    System.out.println(\"Higher or Lower? (enter a number 1-8)\");\n",
    "    Scanner scHL = new Scanner(System.in);\n",
    "    int answer = (int) (Math.random() * 8) + 1; // random starts at 0\n",
    "    int guess = scHL.nextInt(); // user input\n",
    "    for(int i = 3; i > 0; i--){ // repetition of 3\n",
    "        if(guess == answer){\n",
    "            System.out.println(\"You win!\");\n",
    "            break;\n",
    "        }\n",
    "        else if(guess > answer){\n",
    "            System.out.println(\"The number is lower\");\n",
    "        }\n",
    "        else if(guess < answer){\n",
    "            System.out.println(\"The number is higher\");\n",
    "        }\n",
    "        guess = scHL.nextInt();\n",
    "    }\n",
    "    System.out.println(\"Game over. Answer was: \"+ answer);\n",
    "    scHL.close();\n",
    "}\n",
    "    }"
   ]
  },
  {
   "cell_type": "markdown",
   "metadata": {},
   "source": [
    "Changed a couple of things in my version, used a while/do statement. I thought this was the right move because I wanted the user to have more than three tries so it didn't make sense to use a for loop. I looked for the java equivalent of a while loop in python and found this! "
   ]
  },
  {
   "cell_type": "code",
   "execution_count": 11,
   "metadata": {
    "vscode": {
     "languageId": "java"
    }
   },
   "outputs": [],
   "source": [
    "import java.util.Random;\n",
    "import java.util.Scanner;\n",
    "\n",
    "public class NumberGuesser {\n",
    "    public static void main(String[] args) {\n",
    "        Scanner scanner = new Scanner(System.in);\n",
    "        Random random = new Random();\n",
    "        \n",
    "        int target = random.nextInt(8) + 1;   // randomly generating a number from 1-8\n",
    "        int userGuess; // initializing a userGuess variable\n",
    "        \n",
    "        System.out.println(\"Welcome to the Higher or Lower game!\");\n",
    "        \n",
    "        do {\n",
    "            System.out.print(\"Guess a number between 1 and 10: \");\n",
    "            userGuess = scanner.nextInt(); // taking user input for userGuess\n",
    "            \n",
    "            if (userGuess < target) {\n",
    "                System.out.println(\"Higher than \" + userGuess);\n",
    "            } else if (userGuess > target) {\n",
    "                System.out.println(\"Lower than \" + userGuess);\n",
    "            } else {\n",
    "                System.out.println(\"You guessed it! The number was: \" + target);\n",
    "            }\n",
    "        } while (userGuess != target);\n",
    "\n",
    "        scanner.close();\n",
    "    }\n",
    "}\n"
   ]
  },
  {
   "cell_type": "code",
   "execution_count": 12,
   "metadata": {
    "vscode": {
     "languageId": "java"
    }
   },
   "outputs": [
    {
     "name": "stdout",
     "output_type": "stream",
     "text": [
      "Welcome to the Higher or Lower game!\n",
      "Guess a number between 1 and 10: Lower than 4\n",
      "Guess a number between 1 and 10: Higher than 2\n",
      "Guess a number between 1 and 10: You guessed it! The number was: 3\n"
     ]
    }
   ],
   "source": [
    "NumberGuesser.main(null)   "
   ]
  },
  {
   "cell_type": "markdown",
   "metadata": {},
   "source": [
    "### Tic Tac Toe TV"
   ]
  },
  {
   "cell_type": "code",
   "execution_count": 13,
   "metadata": {
    "vscode": {
     "languageId": "java"
    }
   },
   "outputs": [],
   "source": [
    "import java.util.Scanner;\n",
    "\n",
    "public class TicTacToe {\n",
    "    public static void main(String[] args) {\n",
    "        char[][] board = {\n",
    "            {' ', ' ', ' '},\n",
    "            {' ', ' ', ' '},\n",
    "            {' ', ' ', ' '}\n",
    "        };\n",
    "\n",
    "        boolean playerX = true;\n",
    "        int moves = 0;\n",
    "\n",
    "        printBoard(board);\n",
    "\n",
    "        while (moves < 9) {\n",
    "            char symbol = (playerX) ? 'X' : 'O';\n",
    "\n",
    "            System.out.print(\"Player \" + symbol + \", enter row (0-2): \");\n",
    "            int row = new Scanner(System.in).nextInt();\n",
    "\n",
    "            System.out.print(\"Player \" + symbol + \", enter column (0-2): \");\n",
    "            int col = new Scanner(System.in).nextInt();\n",
    "\n",
    "            if (row < 0 || row > 2 || col < 0 || col > 2 || board[row][col] != ' ') {\n",
    "                System.out.println(\"Invalid move. Try again.\");\n",
    "                continue;\n",
    "            }\n",
    "\n",
    "            board[row][col] = symbol;\n",
    "            printBoard(board);\n",
    "\n",
    "            if (checkWin(board, symbol)) {\n",
    "                System.out.println(\"Player \" + symbol + \" wins!\");\n",
    "                break;\n",
    "            }\n",
    "\n",
    "            playerX = !playerX;\n",
    "            moves++;\n",
    "        }\n",
    "\n",
    "        if (moves == 9) {\n",
    "            System.out.println(\"It's a draw!\");\n",
    "        }\n",
    "    }\n",
    "\n",
    "    public static void printBoard(char[][] board) {\n",
    "        System.out.println(\"  0 1 2\");\n",
    "        for (int i = 0; i < 3; i++) {\n",
    "            System.out.print(i + \" \");\n",
    "            for (int j = 0; j < 3; j++) {\n",
    "                System.out.print(board[i][j]);\n",
    "                if (j < 2) {\n",
    "                    System.out.print(\"|\");\n",
    "                }\n",
    "            }\n",
    "            System.out.println();\n",
    "            if (i < 2) {\n",
    "                System.out.println(\"  -+-+-\");\n",
    "            }\n",
    "        }\n",
    "    }\n",
    "\n",
    "    public static boolean checkWin(char[][] board, char symbol) {\n",
    "        for (int i = 0; i < 3; i++) {\n",
    "            if (board[i][0] == symbol && board[i][1] == symbol && board[i][2] == symbol) {\n",
    "                return true;\n",
    "            }\n",
    "            if (board[0][i] == symbol && board[1][i] == symbol && board[2][i] == symbol) {\n",
    "                return true;\n",
    "            }\n",
    "        }\n",
    "        if (board[0][0] == symbol && board[1][1] == symbol && board[2][2] == symbol) {\n",
    "            return true;\n",
    "        }\n",
    "        if (board[0][2] == symbol && board[1][1] == symbol && board[2][0] == symbol) {\n",
    "            return true;\n",
    "        }\n",
    "        return false;\n",
    "    }\n",
    "}\n"
   ]
  }
 ],
 "metadata": {
  "kernelspec": {
   "display_name": "Java",
   "language": "java",
   "name": "java"
  },
  "language_info": {
   "codemirror_mode": "java",
   "file_extension": ".jshell",
   "mimetype": "text/x-java-source",
   "name": "Java",
   "pygments_lexer": "java",
   "version": "20.0.2+9-78"
  },
  "orig_nbformat": 4
 },
 "nbformat": 4,
 "nbformat_minor": 2
}
