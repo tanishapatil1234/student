{
 "cells": [
  {
   "cell_type": "code",
   "execution_count": null,
   "metadata": {
    "vscode": {
     "languageId": "java"
    }
   },
   "outputs": [],
   "source": [
    "\n",
    "public class main{\n",
    "    public static void initializeKeypad(String[] args) {\n",
    "\n",
    "    \n",
    "    System.out.println();\n",
    "}\n",
    "}\n",
    "\n"
   ]
  },
  {
   "cell_type": "code",
   "execution_count": null,
   "metadata": {
    "vscode": {
     "languageId": "java"
    }
   },
   "outputs": [],
   "source": []
  },
  {
   "cell_type": "code",
   "execution_count": 47,
   "metadata": {
    "vscode": {
     "languageId": "java"
    }
   },
   "outputs": [],
   "source": [
    "public static void initializeRandomLetters(String[] args){\n",
    "    int returnList = []; \n",
    "    // for loop 5 iteration\n",
    "    int randomNum = (int) (Math.random() * (32 - 1 + 1)) + 1;  // generate random number \n",
    "    // corresponding number with ASCII \n",
    "    // append returnList with each \n",
    "    // return returnList;\n",
    "    System.out.println(randomNum);\n",
    "    \n",
    "}"
   ]
  },
  {
   "cell_type": "code",
   "execution_count": 55,
   "metadata": {
    "vscode": {
     "languageId": "java"
    }
   },
   "outputs": [
    {
     "ename": "CompilationException",
     "evalue": "",
     "output_type": "error",
     "traceback": [
      "\u001b[1m\u001b[30m|   \u001b[1m\u001b[30m    public static class main\u001b[0m\u001b[1m\u001b[30m\u001b[41m\u001b[0m\u001b[1m\u001b[30m(string[] args){\u001b[0m",
      "\u001b[1m\u001b[31m'{' expected\u001b[0m",
      "",
      "\u001b[1m\u001b[30m|   \u001b[1m\u001b[30m        \u001b[0m\u001b[1m\u001b[30m\u001b[41m\u001b[0m\u001b[1m\u001b[30minitializeRandomLetters();\u001b[0m",
      "\u001b[1m\u001b[31minvalid method declaration; return type required\u001b[0m",
      ""
     ]
    }
   ],
   "source": [
    "public class Final{\n",
    "    public static class main(string[] args){\n",
    "        initializeRandomLetters();\n",
    "    }\n",
    "}"
   ]
  },
  {
   "cell_type": "code",
   "execution_count": 27,
   "metadata": {
    "vscode": {
     "languageId": "java"
    }
   },
   "outputs": [
    {
     "ename": "CompilationException",
     "evalue": "",
     "output_type": "error",
     "traceback": [
      "\u001b[1m\u001b[30m|   \u001b[1m\u001b[30mpublic static class main\u001b[0m\u001b[1m\u001b[30m\u001b[41m\u001b[0m\u001b[1m\u001b[30m(String[] args){\u001b[0m",
      "\u001b[1m\u001b[31m'{' expected\u001b[0m",
      "",
      "\u001b[1m\u001b[30m|   \u001b[1m\u001b[30m \u001b[0m\u001b[1m\u001b[30m\u001b[41m\u001b[0m\u001b[1m\u001b[30minitializeRandomLetters(); \u001b[0m",
      "\u001b[1m\u001b[31minvalid method declaration; return type required\u001b[0m",
      ""
     ]
    }
   ],
   "source": [
    "public static class main(String[] args){\n",
    "//    System.out.println(\"Keypad\");\n",
    " //   initializeKeypad(); \n",
    "\n",
    " //   System.out.println(\"Reverse Keypad\");\n",
    " //   reverseKeypad();\n",
    " initializeRandomLetters(); \n",
    ")\n",
    "\n",
    "System.main(null);"
   ]
  },
  {
   "cell_type": "code",
   "execution_count": 100,
   "metadata": {
    "vscode": {
     "languageId": "java"
    }
   },
   "outputs": [
    {
     "name": "stdout",
     "output_type": "stream",
     "text": [
      "1 2 3  \n",
      "4 5 6  \n",
      "7 8 9 "
     ]
    }
   ],
   "source": [
    "\n",
    "public class DisplayHV {\n",
    "    public static void main(String[] args) {\n",
    "        ArrayList<ArrayList<Integer>> matrix = new ArrayList<>();\n",
    "        matrix.add(new ArrayList<>(List.of(1, 2, 3)));\n",
    "        matrix.add(new ArrayList<>(List.of(4, 5, 6)));\n",
    "        matrix.add(new ArrayList<>(List.of(7, 8, 9)));\n",
    "        matrix.add(new ArrayList<>(List.of(0)));\n",
    "\n",
    "        for (int i = 0; i < 1; i++) {\n",
    "            for (int j = 0; j < matrix.get(i).size(); j++) {\n",
    "                System.out.print(matrix.get(i).get(j)+ \" \") ;\n",
    "            }\n",
    "        }                \n",
    "        System.out.println(\" \");\n",
    "\n",
    "        for (int i = 1; i < 2; i++) {\n",
    "            for (int j = 0; j < matrix.get(i).size(); j++) {\n",
    "                System.out.print(matrix.get(i).get(j)+ \" \") ;\n",
    "            }\n",
    "        }\n",
    "        System.out.println(\" \");\n",
    "\n",
    "        for (int i = 2; i < 3; i++) {\n",
    "            for (int j = 0; j < matrix.get(i).size(); j++) {\n",
    "                System.out.print(matrix.get(i).get(j)+ \" \") ;\n",
    "            }\n",
    "        }\n",
    "        \n",
    "    }\n",
    "}\n",
    "\n",
    "\n",
    "DisplayHV.main(null)"
   ]
  }
 ],
 "metadata": {
  "kernelspec": {
   "display_name": "Java",
   "language": "java",
   "name": "java"
  },
  "language_info": {
   "codemirror_mode": "java",
   "file_extension": ".jshell",
   "mimetype": "text/x-java-source",
   "name": "Java",
   "pygments_lexer": "java",
   "version": "20.0.2+9-78"
  },
  "orig_nbformat": 4
 },
 "nbformat": 4,
 "nbformat_minor": 2
}
